{
 "cells": [
  {
   "cell_type": "markdown",
   "metadata": {},
   "source": [
    "<br>\n",
    "\n",
    "# Independent project | Planning for drunks"
   ]
  },
  {
   "cell_type": "markdown",
   "metadata": {},
   "source": [
    "<br>\n",
    "\n",
    "## Table of contents\n",
    "\n",
    " + 1 [Introduction](#intro)\n",
    " + 2 [The intention of the software](#intention)\n",
    " + 3 [Issues during development](#issues)\n",
    "     - 3.1 [Issue 1](#issue1)\n",
    "     - 3.2 [Issue 2](#issue2)\n",
    " + 4 [How those issues were overcome](#overcome)\n",
    " + 5 [General sources used](#sources)\n",
    " + 6 [The thought processes going into the software](#thought)\n",
    " + 7 [The software development process followed](#process)\n",
    " + 7 [Conclusions](#conclusions)\n",
    " \n",
    "     [References](#references)"
   ]
  },
  {
   "cell_type": "markdown",
   "metadata": {},
   "source": [
    "<a id=\"intro\"></a>\n",
    "\n",
    "## 1. Introduction\n",
    "---"
   ]
  },
  {
   "cell_type": "markdown",
   "metadata": {},
   "source": [
    "The purpose of this project is to build an [agent-based model (ABM)](https://en.wikipedia.org/wiki/Agent-based_model) that simulates drunk people trying to get home after a night out in the pub of the town ([Buehler and Pucher, 2012, p.94;](#bueh)).\n",
    "\n"
   ]
  },
  {
   "cell_type": "markdown",
   "metadata": {},
   "source": [
    "<a id=\"intention\"></a>\n",
    "\n",
    "## 2. The intention of the software\n",
    "---"
   ]
  },
  {
   "cell_type": "markdown",
   "metadata": {},
   "source": [
    "The software does the following: \n",
    "-\tPull in the data file and finds out the pub point and the home points.\n",
    "-\tDraws the pub and homes on the screen.\n",
    "-\tModels the drunks leaving their pub and reaching their homes, and stores how many drunks pass through each point on the map.\n",
    "-\tDraws the density of drunks passing through each point on a map.\n",
    "-\tSaves the density map to a file as text.\n",
    "\n",
    "The following algorithm illustrates the intention of the software."
   ]
  },
  {
   "cell_type": "code",
   "execution_count": 1,
   "metadata": {
    "collapsed": true
   },
   "outputs": [],
   "source": [
    "# Set up matplotlib magic\n",
    "%matplotlib inline\n",
    "\n",
    "# Import libraries\n",
    "import pandas as pd\n",
    "import numpy as np\n",
    "import requests\n",
    "import geopandas as gpd"
   ]
  },
  {
   "cell_type": "markdown",
   "metadata": {},
   "source": [
    "Files for this project:\n",
    "\n",
    "-1 (300 by 300) raster file representing the pub point and houses. The file is laid out at one line per image line, from the top left to bottom right of the raster file. The pub is denoted by 1s, the houses by the numbers 10-250, and the empty spaces zeros. There are 25 drunks (house numbers 250, 240, 230...etc...10). Each drunk should be given a number before leaving the pub, and they will need to find the home with the same number in the town plan.\n"
   ]
  },
  {
   "cell_type": "markdown",
   "metadata": {},
   "source": [
    "<a id=\"issues\"></a>\n",
    "\n",
    "## 3. Issues during development\n",
    "---"
   ]
  },
  {
   "cell_type": "markdown",
   "metadata": {},
   "source": [
    "The main issues during the development where does were not used for the previous practical such as:\n",
    "\n",
    "•\tAnimation\n"
   ]
  },
  {
   "cell_type": "markdown",
   "metadata": {},
   "source": [
    "<a id=\"issue1\"></a>\n",
    "\n",
    "### 3.1. Issue 1"
   ]
  },
  {
   "cell_type": "markdown",
   "metadata": {},
   "source": [
    "<a id=\"issue2\"></a>\n",
    "\n",
    "### 3.2. Issue 2"
   ]
  },
  {
   "cell_type": "markdown",
   "metadata": {},
   "source": [
    "<a id=\"overcome\"></a>\n",
    "\n",
    "## 4. How those issues were overcome\n",
    " ---"
   ]
  },
  {
   "cell_type": "markdown",
   "metadata": {},
   "source": [
    "The issues were overcomed reading in and reading the slides."
   ]
  },
  {
   "cell_type": "markdown",
   "metadata": {},
   "source": [
    "<a id=\"sources\"></a>\n",
    "\n",
    "## 5. General sources used\n",
    "---"
   ]
  },
  {
   "cell_type": "markdown",
   "metadata": {},
   "source": [
    "<a id=\"thought\"></a>\n",
    "\n",
    "## 6. The thought processes going into the software\n",
    "---"
   ]
  },
  {
   "cell_type": "markdown",
   "metadata": {},
   "source": [
    "First I pulled in the data file and found out the pub point and the home points.\n",
    "\n",
    "\n",
    "Then I drew the pub and homes on the screen, in other words, I plot the environment\n"
   ]
  },
  {
   "cell_type": "markdown",
   "metadata": {},
   "source": [
    "<a id=\"conclusions\"></a>\n",
    "\n",
    "## 7. Conclusions"
   ]
  },
  {
   "cell_type": "markdown",
   "metadata": {},
   "source": [
    "<a id=\"references\"></a>\n",
    "\n",
    "## References"
   ]
  },
  {
   "cell_type": "markdown",
   "metadata": {},
   "source": [
    "<a id=\"bueh\"></a>\n",
    "\n",
    "Buehler, R. and Pucher, J., 2012. Cycling to work in 90 large American cities: new evidence on the role of bike paths and lanes. Transportation, 39(2), pp.409-432. Available from: http://saferoutespartnership.org/sites/default/files/pdf/Lib_of_Res/SS_ST_Rutgers_impactbikepaths_bikecommutingbehavior_042012%20-%20Copy.pdf"
   ]
  },
  {
   "cell_type": "markdown",
   "metadata": {},
   "source": [
    "<a id=\"daoud\"></a>\n",
    "\n",
    "Daoud, J.I., 2017, December. Multicollinearity and Regression Analysis. In Journal of Physics: Conference Series (Vol. 949, No. 1, p. 012009). IOP Publishing. Available from: http://iopscience.iop.org/article/10.1088/1742-6596/949/1/012009/pdf"
   ]
  }
 ],
 "metadata": {
  "kernelspec": {
   "display_name": "Python 3",
   "language": "python",
   "name": "python3"
  },
  "language_info": {
   "codemirror_mode": {
    "name": "ipython",
    "version": 3
   },
   "file_extension": ".py",
   "mimetype": "text/x-python",
   "name": "python",
   "nbconvert_exporter": "python",
   "pygments_lexer": "ipython3",
   "version": "3.6.3"
  }
 },
 "nbformat": 4,
 "nbformat_minor": 2
}
